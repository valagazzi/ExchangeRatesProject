{
 "cells": [
  {
   "cell_type": "code",
   "execution_count": null,
   "metadata": {},
   "outputs": [],
   "source": [
    "\"\"\"%pip install requests\n",
    "   %pip install pandas\"\"\""
   ]
  },
  {
   "cell_type": "code",
   "execution_count": 5,
   "metadata": {},
   "outputs": [
    {
     "name": "stdout",
     "output_type": "stream",
     "text": [
      "   RatCurrencyFrom RatCurrencyTo  RatAmount RatType\n",
      "0              EUR           USD   1.083001    COBU\n",
      "1              GBP           USD   1.292708    COBU\n",
      "2              HKD           USD   0.128660    COBU\n",
      "3              HUF           USD   0.002706    COBU\n",
      "4              ILS           USD   0.273336    COBU\n",
      "5              INR           USD   0.011488    COBU\n",
      "6              JPY           USD   0.006742    COBU\n",
      "7              KES           USD   0.007738    COBU\n",
      "8              KRW           USD   0.000686    COBU\n",
      "9              KWD           USD   3.244373    COBU\n",
      "10             MXN           USD   0.049606    COBU\n",
      "11             NOK           USD   0.093382    COBU\n",
      "12             NZD           USD   0.568666    COBU\n",
      "13             PLN           USD   0.258071    COBU\n",
      "14             QAR           USD   0.274725    COBU\n",
      "15             RON           USD   0.217581    COBU\n",
      "16             RUB           USD   0.011514    COBU\n",
      "17             SEK           USD   0.097832    COBU\n",
      "18             SGD           USD   0.747719    COBU\n",
      "19             THB           USD   0.029538    COBU\n",
      "20             TRY           USD   0.027316    COBU\n",
      "21             TWD           USD   0.030397    COBU\n",
      "22             USD           USD   1.000000    COBU\n"
     ]
    }
   ],
   "source": [
    "import requests\n",
    "import pandas as pd\n",
    "\n",
    "# Define the list of currencies you need\n",
    "CURRENCIES = ['EUR', 'GBP', 'HKD', 'HUF', 'ILS', 'INR', 'JPY', 'KES', 'KRW', 'KWD', 'MXN', 'NOK', 'NZD', 'PLN', 'QAR', 'RON', 'RUB', 'SEK', 'SGD', 'THB', 'TRY', 'TWD', 'USD']\n",
    "\n",
    "def fetch_frankfurter_rates():\n",
    "    \"\"\"Fetch exchange rates from Frankfurter.app.\"\"\"\n",
    "    url = \"https://api.frankfurter.app/latest?from=USD\"\n",
    "    try:\n",
    "        response = requests.get(url)\n",
    "        response.raise_for_status()  # Raise an error for bad status codes\n",
    "        return response.json()['rates']\n",
    "    except requests.exceptions.RequestException as e:\n",
    "        print(f\"Error fetching data from Frankfurter.app: {e}\")\n",
    "        return {}\n",
    "\n",
    "def fetch_fallback_rates():\n",
    "    \"\"\"Fetch exchange rates from a fallback API (exchangerate-api.com).\"\"\"\n",
    "    url = \"https://open.er-api.com/v6/latest/USD\"\n",
    "    try:\n",
    "        response = requests.get(url)\n",
    "        response.raise_for_status()\n",
    "        return response.json()['rates']\n",
    "    except requests.exceptions.RequestException as e:\n",
    "        print(f\"Error fetching data from fallback API: {e}\")\n",
    "        return {}\n",
    "\n",
    "def get_exchange_rates():\n",
    "    \"\"\"Combine rates from Frankfurter.app and a fallback API.\"\"\"\n",
    "    # Fetch rates from Frankfurter.app\n",
    "    frankfurter_rates = fetch_frankfurter_rates()\n",
    "    \n",
    "    # Fetch rates from the fallback API\n",
    "    fallback_rates = fetch_fallback_rates()\n",
    "    \n",
    "    # Combine rates, prioritizing Frankfurter.app data\n",
    "    rates = {}\n",
    "    for currency in CURRENCIES:\n",
    "        if currency in frankfurter_rates:\n",
    "            rates[currency] = frankfurter_rates[currency]\n",
    "        elif currency in fallback_rates:\n",
    "            rates[currency] = fallback_rates[currency]\n",
    "        else:\n",
    "            print(f\"Rate for {currency} not found in any API.\")\n",
    "            rates[currency] = None\n",
    "    \n",
    "    # Create a DataFrame\n",
    "    df = pd.DataFrame([\n",
    "        {'RatCurrencyFrom': currency, 'RatCurrencyTo': 'USD', 'RatAmount': 1 / rate if rate else None, 'RatType': 'COBU'}\n",
    "        for currency, rate in rates.items()\n",
    "    ])\n",
    "    return df\n",
    "\n",
    "if __name__ == \"__main__\":\n",
    "    df = get_exchange_rates()\n",
    "    if not df.empty:\n",
    "        print(df)\n",
    "        # Save the DataFrame to a CSV file\n",
    "        df.to_csv('exchange_rates.csv', index=False)\n",
    "    else:\n",
    "        print(\"Failed to fetch exchange rates.\")"
   ]
  }
 ],
 "metadata": {
  "kernelspec": {
   "display_name": "Python 3",
   "language": "python",
   "name": "python3"
  },
  "language_info": {
   "codemirror_mode": {
    "name": "ipython",
    "version": 3
   },
   "file_extension": ".py",
   "mimetype": "text/x-python",
   "name": "python",
   "nbconvert_exporter": "python",
   "pygments_lexer": "ipython3",
   "version": "3.13.1"
  }
 },
 "nbformat": 4,
 "nbformat_minor": 2
}
