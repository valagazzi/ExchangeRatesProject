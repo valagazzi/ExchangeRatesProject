{
 "cells": [
  {
   "cell_type": "code",
   "execution_count": null,
   "metadata": {},
   "outputs": [],
   "source": [
    "import requests\n",
    "import pandas as pd\n",
    "from datetime import datetime, timedelta\n",
    "\n",
    "# Define the list of currencies you need\n",
    "CURRENCIES = ['EUR', 'GBP', 'HKD', 'HUF', 'ILS', 'INR', 'JPY', 'KES', 'KRW', 'KWD', 'MXN', 'NOK', 'NZD', 'PLN', 'QAR', 'RON', 'RUB', 'SEK', 'SGD', 'THB', 'TRY', 'TWD', 'USD']\n",
    "\n",
    "# Define the start and end dates\n",
    "end_date = datetime.now()\n",
    "start_date = end_date - timedelta(days=365 * 10)\n",
    "\n",
    "def fetch_historical_rates(date, currencies):\n",
    "    \"\"\"Fetch historical exchange rates from Frankfurter.app for a specific date.\"\"\"\n",
    "    url = f\"https://api.frankfurter.app/{date}?from=USD&to={','.join(currencies)}\"\n",
    "    try:\n",
    "        response = requests.get(url)\n",
    "        response.raise_for_status()  # Raise an error for bad status codes\n",
    "        return response.json()['rates']\n",
    "    except requests.exceptions.RequestException as e:\n",
    "        print(f\"Error fetching data from Frankfurter.app for date {date}: {e}\")\n",
    "        return {}\n",
    "\n",
    "def get_historical_exchange_rates():\n",
    "    \"\"\"Fetch historical exchange rates for the last 10 years.\"\"\"\n",
    "    historical_rates = []\n",
    "    current_date = start_date\n",
    "    \n",
    "    while current_date <= end_date:\n",
    "        date_str = current_date.strftime('%Y-%m-%d')\n",
    "        rates = fetch_historical_rates(date_str, CURRENCIES)\n",
    "        if rates:\n",
    "            rates['Date'] = date_str\n",
    "            historical_rates.append(rates)\n",
    "        current_date += timedelta(days=1)\n",
    "    \n",
    "    # Create a DataFrame\n",
    "    df = pd.DataFrame(historical_rates)\n",
    "    df.set_index('Date', inplace=True)\n",
    "    return df\n",
    "\n",
    "if __name__ == \"__main__\":\n",
    "    df = get_historical_exchange_rates()\n",
    "    if not df.empty:\n",
    "        print(df.head())\n",
    "        # Save the DataFrame to a CSV file\n",
    "        df.to_csv('historical_exchange_rates.csv')\n",
    "    else:\n",
    "        print(\"Failed to fetch historical exchange rates.\")"
   ]
  }
 ],
 "metadata": {
  "kernelspec": {
   "display_name": "Python 3",
   "language": "python",
   "name": "python3"
  },
  "language_info": {
   "codemirror_mode": {
    "name": "ipython",
    "version": 3
   },
   "file_extension": ".py",
   "mimetype": "text/x-python",
   "name": "python",
   "nbconvert_exporter": "python",
   "pygments_lexer": "ipython3",
   "version": "3.13.1"
  }
 },
 "nbformat": 4,
 "nbformat_minor": 2
}
